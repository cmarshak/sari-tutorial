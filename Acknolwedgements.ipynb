{
 "cells": [
  {
   "cell_type": "code",
   "execution_count": 7,
   "metadata": {},
   "outputs": [],
   "source": [
    "from pathlib import Path\n",
    "import json"
   ]
  },
  {
   "cell_type": "code",
   "execution_count": 8,
   "metadata": {},
   "outputs": [
    {
     "data": {
      "text/plain": [
       "[PosixPath('1_Downloading_Data/1_Downloading_Data.ipynb'),\n",
       " PosixPath('2_GIS/2_GIS.ipynb'),\n",
       " PosixPath('3_Backscatter/3_Backscatter.ipynb'),\n",
       " PosixPath('4_Despeckling/4_Despeckling.ipynb'),\n",
       " PosixPath('5_RGB_Composites/5_RGB_Composites.ipynb'),\n",
       " PosixPath('6-Coherence/6_Coherence.ipynb'),\n",
       " PosixPath('7_Superpixel_Segmentation/7_Superpixel_Segmentation.ipynb'),\n",
       " PosixPath('8_Change_Detection/8_Change_Detection.ipynb')]"
      ]
     },
     "execution_count": 8,
     "metadata": {},
     "output_type": "execute_result"
    }
   ],
   "source": [
    "ipynbs = sorted(list(Path('.').glob('*/*.ipynb')))\n",
    "ipynbs = list(filter(lambda x: 'checkpoints' not in str(x), ipynbs))\n",
    "ipynbs = list(filter(lambda x: '_no_solutions' not in str(x), ipynbs))\n",
    "ipynbs"
   ]
  },
  {
   "cell_type": "code",
   "execution_count": 9,
   "metadata": {},
   "outputs": [],
   "source": [
    "data = json.load(open(ipynbs[0], 'r'))\n",
    "cells = data['cells']"
   ]
  },
  {
   "cell_type": "code",
   "execution_count": 15,
   "metadata": {},
   "outputs": [
    {
     "data": {
      "text/plain": [
       "['# Acknowledgements\\n',\n",
       " '\\n',\n",
       " 'This tutorial was written by Charlie Marshak and supervised closely by [Marc Simard](https://scholar.google.com/citations?user=JQJF1wgAAAAJ&hl=en). \\n',\n",
       " '\\n',\n",
       " 'This tutorial was for the 2019 SARI training [conference](http://sari.umd.edu/meetings/international-regional-science-training) held at Prince of Songkla University, Phuket Campus. We are grateful to the conference organizers (in particular [Krishna Vadrevu](https://geog.umd.edu/facultyprofile/vadrevu/krishna)), the [SARI program](http://sari.umd.edu/), and the [LCLUC program](https://lcluc.umd.edu/) working to make this training conference possible. We are grateful for the input from and helpful conversations with [Michael Denbina](https://www.researchgate.net/profile/Michael_Denbina), [Tien-Hao Liao](https://scienceandtechnology.jpl.nasa.gov/tien-hao-liao), and Neda Kasraee. \\n',\n",
       " '\\n',\n",
       " 'We gratefully and humbly acknowledge JAXA for the use of ALOS-2 data to generate a coherence image over Mondah, Gabon generated using ISCE2. We are also grateful to the ASF for providing easy access to ALOS-1 radiometrically and terrain corrected tiles over Mondah and Ko Panyi.\\n',\n",
       " '\\n',\n",
       " 'A portion of this research was performed at the Jet Propulsion Laboratory, California Institute of Technology. \\n',\n",
       " '\\n',\n",
       " 'Copyright 2019 by the California Institute of Technology. ALL RIGHTS RESERVED. United States Government Sponsorship acknowledged. Any commercial use must be negotiated with the Office of Technology Transfer at the California Institute of Technology.\\n',\n",
       " '\\n',\n",
       " 'This software may be subject to U.S. export control laws. By accepting this software, the user agrees to comply with all applicable U.S. export laws and regulations. User has the responsibility to obtain export licenses, or other export authority as may be required before exporting such information to foreign countries or providing access to foreign persons.\\n']"
      ]
     },
     "execution_count": 15,
     "metadata": {},
     "output_type": "execute_result"
    }
   ],
   "source": [
    "acknowledgement = '''# Acknowledgements\n",
    "\n",
    "This tutorial was written by Charlie Marshak and supervised closely by [Marc Simard](https://scholar.google.com/citations?user=JQJF1wgAAAAJ&hl=en). \n",
    "\n",
    "This tutorial was for the 2019 SARI training [conference](http://sari.umd.edu/meetings/international-regional-science-training) held at Prince of Songkla University, Phuket Campus. We are grateful to the conference organizers (in particular [Krishna Vadrevu](https://geog.umd.edu/facultyprofile/vadrevu/krishna)), the [SARI program](http://sari.umd.edu/), and the [LCLUC program](https://lcluc.umd.edu/) working to make this training conference possible. We are grateful for the input from and helpful conversations with [Michael Denbina](https://www.researchgate.net/profile/Michael_Denbina), [Tien-Hao Liao](https://scienceandtechnology.jpl.nasa.gov/tien-hao-liao), and Neda Kasraee. \n",
    "\n",
    "We gratefully and humbly acknowledge JAXA for the use of ALOS-2 data to generate a coherence image over Mondah, Gabon generated using ISCE2. We are also grateful to the ASF for providing easy access to ALOS-1 radiometrically and terrain corrected tiles over Mondah and Ko Panyi.\n",
    "\n",
    "A portion of this research was performed at the Jet Propulsion Laboratory, California Institute of Technology. \n",
    "\n",
    "Copyright 2019 by the California Institute of Technology. ALL RIGHTS RESERVED. United States Government Sponsorship acknowledged. Any commercial use must be negotiated with the Office of Technology Transfer at the California Institute of Technology.\n",
    "\n",
    "This software may be subject to U.S. export control laws. By accepting this software, the user agrees to comply with all applicable U.S. export laws and regulations. User has the responsibility to obtain export licenses, or other export authority as may be required before exporting such information to foreign countries or providing access to foreign persons.'''\n",
    "acknowledgement = acknowledgement.split('\\n')\n",
    "acknowledgement = list(map(lambda x: x + '\\n', acknowledgement))\n",
    "acknowledgement"
   ]
  },
  {
   "cell_type": "code",
   "execution_count": 16,
   "metadata": {},
   "outputs": [],
   "source": [
    "def add_acknowledgement(cell):\n",
    "    source = cell['source']\n",
    "    cell_new = cell.copy()  \n",
    "    if len(source)>0 and '# Acknowledgements' in source[0]:\n",
    "        cell_new['source'] = acknowledgement\n",
    "        return cell_new\n",
    "    else:\n",
    "        return cell\n",
    "\n",
    "acknowledged_cells = list(map(add_acknowledgement, cells))"
   ]
  },
  {
   "cell_type": "code",
   "execution_count": 20,
   "metadata": {},
   "outputs": [],
   "source": [
    "def copy_ipynb_without_answers(ipynb_path):\n",
    "    data = json.load(open(ipynb_path, 'r'))\n",
    "    cells = data['cells']\n",
    "    acknowledged_cells = list(map(add_acknowledgement, cells))\n",
    "    \n",
    "    data_new = data.copy()\n",
    "    data_new['cells'] = acknowledged_cells\n",
    "    \n",
    "    dest_path = ipynb_path#Path(str(ipynb_path).replace('.ipynb', '_.ipynb'))#ipynb_path#Path(str(ipynb_path).replace('.ipynb', '_no_solutions.ipynb'))\n",
    "    json.dump(data_new, open(dest_path, 'w'))\n",
    "    return dest_path\n"
   ]
  },
  {
   "cell_type": "code",
   "execution_count": 21,
   "metadata": {},
   "outputs": [
    {
     "data": {
      "text/plain": [
       "[PosixPath('1_Downloading_Data/1_Downloading_Data.ipynb'),\n",
       " PosixPath('2_GIS/2_GIS.ipynb'),\n",
       " PosixPath('3_Backscatter/3_Backscatter.ipynb'),\n",
       " PosixPath('4_Despeckling/4_Despeckling.ipynb'),\n",
       " PosixPath('5_RGB_Composites/5_RGB_Composites.ipynb'),\n",
       " PosixPath('6-Coherence/6_Coherence.ipynb'),\n",
       " PosixPath('7_Superpixel_Segmentation/7_Superpixel_Segmentation.ipynb'),\n",
       " PosixPath('8_Change_Detection/8_Change_Detection.ipynb')]"
      ]
     },
     "execution_count": 21,
     "metadata": {},
     "output_type": "execute_result"
    }
   ],
   "source": [
    "list(map(copy_ipynb_without_answers, ipynbs))"
   ]
  },
  {
   "cell_type": "code",
   "execution_count": null,
   "metadata": {},
   "outputs": [],
   "source": []
  }
 ],
 "metadata": {
  "kernelspec": {
   "display_name": "Python 3",
   "language": "python",
   "name": "python3"
  },
  "language_info": {
   "codemirror_mode": {
    "name": "ipython",
    "version": 3
   },
   "file_extension": ".py",
   "mimetype": "text/x-python",
   "name": "python",
   "nbconvert_exporter": "python",
   "pygments_lexer": "ipython3",
   "version": "3.7.3"
  }
 },
 "nbformat": 4,
 "nbformat_minor": 2
}
